{
 "cells": [
  {
   "cell_type": "markdown",
   "id": "3ec18791-ef41-458b-b90b-ce8c36ff4312",
   "metadata": {},
   "source": [
    "# MI PRESENTACION"
   ]
  },
  {
   "cell_type": "markdown",
   "id": "3c3a81dd-e95f-411c-bc61-bbe3fc1bcf62",
   "metadata": {},
   "source": [
    "Me considero una persona decidida y arriesgada asi como analista. Me agrada conocer gente nueva y en general las relaciones interpersonales."
   ]
  },
  {
   "cell_type": "markdown",
   "id": "8f090eff-ee87-4162-8fcc-62596a97c7d3",
   "metadata": {},
   "source": [
    "## Me Gusta:\n"
   ]
  },
  {
   "cell_type": "markdown",
   "id": "ce2ee7f1-e5d7-4a40-b472-e840c548c720",
   "metadata": {},
   "source": [
    "- El Tenis\n",
    "- Los Pinguinos\n",
    "- Escuchar Musica\n",
    "- Escuchar ASMR\n",
    "- Aprender Idiomas\n",
    "- Hacer Trading"
   ]
  },
  {
   "cell_type": "markdown",
   "id": "cf4b6ee6-0653-4fc0-b926-c1eeaca0fc96",
   "metadata": {},
   "source": [
    "## Tengo miedo a"
   ]
  },
  {
   "cell_type": "markdown",
   "id": "7471811e-7afc-493f-8fa8-e7902c44c97a",
   "metadata": {},
   "source": [
    "- Arañas"
   ]
  },
  {
   "cell_type": "markdown",
   "id": "b2d34255-cd70-4801-9883-0db674ae302f",
   "metadata": {},
   "source": [
    "## Una de mis frases favoritas es:"
   ]
  },
  {
   "cell_type": "markdown",
   "id": "705b7780-a19b-4ad4-a61e-b034a3c214a5",
   "metadata": {},
   "source": [
    "> \"Los ricos no trabajan por dinero, el dinero trabaja para ellos\". **-Robert T. Kiyosaki**"
   ]
  },
  {
   "cell_type": "markdown",
   "id": "3dd0e58d-c8af-4f1d-9c57-d0b2ebe9a648",
   "metadata": {},
   "source": [
    "---"
   ]
  }
 ],
 "metadata": {
  "kernelspec": {
   "display_name": "Python 3 (ipykernel)",
   "language": "python",
   "name": "python3"
  },
  "language_info": {
   "codemirror_mode": {
    "name": "ipython",
    "version": 3
   },
   "file_extension": ".py",
   "mimetype": "text/x-python",
   "name": "python",
   "nbconvert_exporter": "python",
   "pygments_lexer": "ipython3",
   "version": "3.9.7"
  }
 },
 "nbformat": 4,
 "nbformat_minor": 5
}
