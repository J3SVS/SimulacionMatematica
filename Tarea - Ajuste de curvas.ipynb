{
 "cells": [
  {
   "cell_type": "markdown",
   "metadata": {},
   "source": [
    "# Tarea - Ajuste de curvas"
   ]
  },
  {
   "cell_type": "code",
   "execution_count": 1,
   "metadata": {},
   "outputs": [],
   "source": [
    "import numpy as np\n",
    "import pandas as pd\n",
    "import matplotlib.pyplot as plt\n",
    "import scipy.optimize as opt"
   ]
  },
  {
   "cell_type": "markdown",
   "metadata": {},
   "source": [
    "---\n",
    "### Problema 1\n",
    "\n",
    "Los siguientes datos representan el costo en dólares de la electricidad según Western Electricity Coordinating Council desde el 2014 (y su pronóstico para el 2040)\n",
    "\n",
    "Tomado de:\n",
    "https://www.quandl.com/data/EIA/AEO_2016_REF_NO_CPP_PRCE_NA_COMM_NA_ELC_NA_WECCRKS_NCNTPKWH_A-Electricity-End-Use-Prices-Commercial-Western-Electricity-Coordinating-Council-Rockies-No-CPP-AEO2016"
   ]
  },
  {
   "cell_type": "code",
   "execution_count": 2,
   "metadata": {},
   "outputs": [
    {
     "data": {
      "text/plain": [
       "array([10.051101,  9.259127,  9.444813,  9.557723,  9.977324, 10.298326,\n",
       "       10.447217, 10.550506, 10.590784, 10.657418, 10.743085, 10.831965,\n",
       "       10.988435, 11.153055, 11.313326, 11.557165, 11.860136, 12.122511,\n",
       "       12.356448, 12.611391, 12.814569, 13.111372, 13.357134, 13.559012,\n",
       "       13.85861 , 14.135924, 14.436149])"
      ]
     },
     "execution_count": 2,
     "metadata": {},
     "output_type": "execute_result"
    }
   ],
   "source": [
    "# Datos extraidos de la página de quandl\n",
    "data = np.array([10.051101,  9.259127,  9.444813,  9.557723,  9.977324, 10.298326,\n",
    "       10.447217, 10.550506, 10.590784, 10.657418, 10.743085, 10.831965,\n",
    "       10.988435, 11.153055, 11.313326, 11.557165, 11.860136, 12.122511,\n",
    "       12.356448, 12.611391, 12.814569, 13.111372, 13.357134, 13.559012,\n",
    "       13.85861 , 14.135924, 14.436149])\n",
    "data"
   ]
  },
  {
   "cell_type": "code",
   "execution_count": 3,
   "metadata": {},
   "outputs": [
    {
     "data": {
      "text/html": [
       "<div>\n",
       "<style scoped>\n",
       "    .dataframe tbody tr th:only-of-type {\n",
       "        vertical-align: middle;\n",
       "    }\n",
       "\n",
       "    .dataframe tbody tr th {\n",
       "        vertical-align: top;\n",
       "    }\n",
       "\n",
       "    .dataframe thead th {\n",
       "        text-align: right;\n",
       "    }\n",
       "</style>\n",
       "<table border=\"1\" class=\"dataframe\">\n",
       "  <thead>\n",
       "    <tr style=\"text-align: right;\">\n",
       "      <th></th>\n",
       "      <th>Year</th>\n",
       "      <th>Prices</th>\n",
       "    </tr>\n",
       "  </thead>\n",
       "  <tbody>\n",
       "    <tr>\n",
       "      <th>22</th>\n",
       "      <td>2036</td>\n",
       "      <td>13.357134</td>\n",
       "    </tr>\n",
       "    <tr>\n",
       "      <th>23</th>\n",
       "      <td>2037</td>\n",
       "      <td>13.559012</td>\n",
       "    </tr>\n",
       "    <tr>\n",
       "      <th>24</th>\n",
       "      <td>2038</td>\n",
       "      <td>13.858610</td>\n",
       "    </tr>\n",
       "    <tr>\n",
       "      <th>25</th>\n",
       "      <td>2039</td>\n",
       "      <td>14.135924</td>\n",
       "    </tr>\n",
       "    <tr>\n",
       "      <th>26</th>\n",
       "      <td>2040</td>\n",
       "      <td>14.436149</td>\n",
       "    </tr>\n",
       "  </tbody>\n",
       "</table>\n",
       "</div>"
      ],
      "text/plain": [
       "    Year     Prices\n",
       "22  2036  13.357134\n",
       "23  2037  13.559012\n",
       "24  2038  13.858610\n",
       "25  2039  14.135924\n",
       "26  2040  14.436149"
      ]
     },
     "execution_count": 3,
     "metadata": {},
     "output_type": "execute_result"
    }
   ],
   "source": [
    "df = pd.DataFrame()\n",
    "df[\"Year\"] = range(2014, 2041)\n",
    "df[\"Prices\"] = data\n",
    "df.tail()"
   ]
  },
  {
   "cell_type": "markdown",
   "metadata": {},
   "source": [
    "1. Ajuste estos datos a polinomios de grado 1 hasta 3 (los datos en $x$ corresponden a los años de 2014 a 2040, sin embargo son valores muy grandes para elevarlos a una potencia, use una representación para estos años, por ejemplo $2014 \\rightarrow 0$ y $2040\\rightarrow 26$).\n",
    "\n",
    "2. Muestre las tres curvas ajustadas junto a los datos de los costos en un solo gráfico"
   ]
  },
  {
   "cell_type": "code",
   "execution_count": 4,
   "metadata": {
    "scrolled": true
   },
   "outputs": [
    {
     "data": {
      "image/png": "[encoded data removed]",
      "text/plain": [
       "<Figure size 432x288 with 1 Axes>"
      ]
     },
     "metadata": {
      "needs_background": "light"
     },
     "output_type": "display_data"
    }
   ],
   "source": [
    "x = df[\"Year\"] - 2014\n",
    "y = df[\"Prices\"]\n",
    "plt.figure()\n",
    "plt.scatter(x, y, s=5)\n",
    "plt.grid()"
   ]
  },
  {
   "cell_type": "code",
   "execution_count": 5,
   "metadata": {},
   "outputs": [
    {
     "data": {
      "text/plain": [
       "      fun: 2.3704889518159167\n",
       " hess_inv: array([[ 0.07010582, -0.00396825],\n",
       "       [-0.00396825,  0.00030525]])\n",
       "      jac: array([2.05636024e-06, 8.16583633e-06])\n",
       "  message: 'Optimization terminated successfully.'\n",
       "     nfev: 18\n",
       "      nit: 4\n",
       "     njev: 6\n",
       "   status: 0\n",
       "  success: True\n",
       "        x: array([9.11567644, 0.18667055])"
      ]
     },
     "execution_count": 5,
     "metadata": {},
     "output_type": "execute_result"
    }
   ],
   "source": [
    "def funcion_de_costo_1(theta, x, y) :\n",
    "    prediccion = theta[0] + theta[1]*x\n",
    "    error = y - prediccion\n",
    "    error_2 = error**2\n",
    "    return np.sum(error_2)\n",
    "\n",
    "theta_inicial_1 = np.random.rand(2)\n",
    "sol = opt.minimize(funcion_de_costo_1,\n",
    "                   theta_inicial_1,\n",
    "                   args=(x, y))\n",
    "costo_1 = sol.fun\n",
    "resultados_1 = sol.x\n",
    "sol"
   ]
  },
  {
   "cell_type": "code",
   "execution_count": 6,
   "metadata": {},
   "outputs": [
    {
     "data": {
      "text/plain": [
       "      fun: 0.8443845192081306\n",
       " hess_inv: array([[ 1.44225545e-01, -2.17569843e-02,  6.84181895e-04],\n",
       "       [-2.17569843e-02,  4.57454506e-03, -1.64203638e-04],\n",
       "       [ 6.84181895e-04, -1.64203638e-04,  6.31552434e-06]])\n",
       "      jac: array([ 8.82148743e-06,  2.88337469e-06, -7.45058060e-09])\n",
       "  message: 'Optimization terminated successfully.'\n",
       "     nfev: 28\n",
       "      nit: 4\n",
       "     njev: 7\n",
       "   status: 0\n",
       "  success: True\n",
       "        x: array([9.59128765e+00, 7.25239491e-02, 4.39025277e-03])"
      ]
     },
     "execution_count": 6,
     "metadata": {},
     "output_type": "execute_result"
    }
   ],
   "source": [
    "def funcion_de_costo_2(theta, x, y) :\n",
    "    prediccion = theta[0] + theta[1]*x + theta[2]*x**2\n",
    "    error = y - prediccion\n",
    "    error_2 = error**2\n",
    "    return np.sum(error_2)\n",
    "\n",
    "theta_inicial_2 = np.random.rand(3)\n",
    "sol = opt.minimize(funcion_de_costo_2,\n",
    "                   theta_inicial_2,\n",
    "                   args=(x, y))\n",
    "costo_2 = sol.fun\n",
    "resultados_2 = sol.x\n",
    "sol"
   ]
  },
  {
   "cell_type": "code",
   "execution_count": 7,
   "metadata": {},
   "outputs": [
    {
     "data": {
      "text/plain": [
       "      fun: 0.8404346758233129\n",
       " hess_inv: array([[ 2.27239725e-01, -6.41154386e-02,  4.83488395e-03,\n",
       "        -1.06428258e-04],\n",
       "       [-6.41154386e-02,  2.61883485e-02, -2.28214173e-03,\n",
       "         5.43061204e-05],\n",
       "       [ 4.83488395e-03, -2.28214173e-03,  2.13852044e-04,\n",
       "        -5.32144302e-06],\n",
       "       [-1.06428258e-04,  5.43061204e-05, -5.32144302e-06,\n",
       "         1.36446952e-07]])\n",
       "      jac: array([0.00000000e+00, 7.45058060e-09, 1.11758709e-07, 1.49011612e-06])\n",
       "  message: 'Optimization terminated successfully.'\n",
       "     nfev: 95\n",
       "      nit: 9\n",
       "     njev: 19\n",
       "   status: 0\n",
       "  success: True\n",
       "        x: array([9.56752299e+00, 8.46495841e-02, 3.20207436e-03, 3.04659703e-05])"
      ]
     },
     "execution_count": 7,
     "metadata": {},
     "output_type": "execute_result"
    }
   ],
   "source": [
    "def funcion_de_costo_3(theta, x, y) :\n",
    "    prediccion = theta[0] + theta[1]*x + theta[2]*x**2 + theta[3]*x**3\n",
    "    error = y - prediccion\n",
    "    error_2 = error**2\n",
    "    return np.sum(error_2)\n",
    "\n",
    "theta_inicial_3 = np.random.rand(4)\n",
    "sol = opt.minimize(funcion_de_costo_3,\n",
    "                   theta_inicial_3,\n",
    "                   args=(x, y))\n",
    "costo_3 = sol.fun\n",
    "resultados_3 = sol.x\n",
    "sol"
   ]
  },
  {
   "cell_type": "markdown",
   "metadata": {},
   "source": [
    "**Ahora graficaremos los polinomios y los errores**"
   ]
  },
  {
   "cell_type": "code",
   "execution_count": 8,
   "metadata": {
    "scrolled": true
   },
   "outputs": [
    {
     "data": {
      "image/png": "[encoded data removed]",
      "text/plain": [
       "<Figure size 432x288 with 1 Axes>"
      ]
     },
     "metadata": {
      "needs_background": "light"
     },
     "output_type": "display_data"
    }
   ],
   "source": [
    "xn = np.linspace(0, 27, 200)\n",
    "yn1 = resultados_1[0] + resultados_1[1]*xn\n",
    "yn2 = resultados_2[0] + resultados_2[1]*xn + resultados_2[2]*xn**2\n",
    "yn3 = resultados_3[0] + resultados_3[1]*xn + resultados_3[2]*xn**2 + resultados_3[3]*xn**3\n",
    "\n",
    "plt.figure()\n",
    "plt.scatter(x, y, s=5)\n",
    "plt.plot(xn, yn1, label=\"Linea\")\n",
    "plt.plot(xn, yn2, label=\"Cuadr\")\n",
    "plt.plot(xn, yn3, label=\"Cubo\")\n",
    "plt.bar([1, 2, 3], [costo_1, costo_2, costo_3])\n",
    "plt.legend(loc=\"best\")\n",
    "plt.grid()"
   ]
  },
  {
   "cell_type": "markdown",
   "metadata": {},
   "source": [
    "---"
   ]
  },
  {
   "cell_type": "markdown",
   "metadata": {},
   "source": [
    "___\n",
    "### Problema 2\n",
    "\n",
    "El archivo `population_data.csv` contiene información histórica anual de México relativa a la población, nacimientos y muertes desde el año 1950 hasta el año 2015. La primer columna corresponde a los años, la segunda a la población, la tercera a los nacimientos y la última a los decesos.\n",
    "\n",
    "Tomado de: https://en.wikipedia.org/wiki/Demographics_of_Mexico.\n",
    "\n",
    "Importe estos datos usando la función `read_csv` del paquete `pandas`\n",
    "\n",
    "1. Usando los años como variable independiente $x$ y la población como variable dependiente $y$, ajustar polinomios de grado 1 hasta grado 3.\n",
    "\n",
    "    * Mostrar en un solo gráfico los datos de población contra los años, y los polinomios ajustados.\n",
    "\n",
    "    * Graficar el error cuadrático acumulado contra el número de términos.\n",
    "\n",
    "2. Repetir el punto 1 usando los nacimientos como variable dependiente $y$. Grafique las curvas ajustadas junto con los datos de nacimientos. Vea en un gráfico el error acumulado."
   ]
  },
  {
   "cell_type": "code",
   "execution_count": 9,
   "metadata": {},
   "outputs": [
    {
     "data": {
      "text/html": [
       "<div>\n",
       "<style scoped>\n",
       "    .dataframe tbody tr th:only-of-type {\n",
       "        vertical-align: middle;\n",
       "    }\n",
       "\n",
       "    .dataframe tbody tr th {\n",
       "        vertical-align: top;\n",
       "    }\n",
       "\n",
       "    .dataframe thead th {\n",
       "        text-align: right;\n",
       "    }\n",
       "</style>\n",
       "<table border=\"1\" class=\"dataframe\">\n",
       "  <thead>\n",
       "    <tr style=\"text-align: right;\">\n",
       "      <th></th>\n",
       "      <th>Year</th>\n",
       "      <th>Poblacion</th>\n",
       "      <th>Nacimientos</th>\n",
       "      <th>Decesos</th>\n",
       "    </tr>\n",
       "  </thead>\n",
       "  <tbody>\n",
       "    <tr>\n",
       "      <th>0</th>\n",
       "      <td>1950</td>\n",
       "      <td>28296</td>\n",
       "      <td>1174947</td>\n",
       "      <td>418430</td>\n",
       "    </tr>\n",
       "    <tr>\n",
       "      <th>1</th>\n",
       "      <td>1951</td>\n",
       "      <td>29110</td>\n",
       "      <td>1183788</td>\n",
       "      <td>458238</td>\n",
       "    </tr>\n",
       "    <tr>\n",
       "      <th>2</th>\n",
       "      <td>1952</td>\n",
       "      <td>29980</td>\n",
       "      <td>1195209</td>\n",
       "      <td>408823</td>\n",
       "    </tr>\n",
       "    <tr>\n",
       "      <th>3</th>\n",
       "      <td>1953</td>\n",
       "      <td>30904</td>\n",
       "      <td>1261775</td>\n",
       "      <td>446127</td>\n",
       "    </tr>\n",
       "    <tr>\n",
       "      <th>4</th>\n",
       "      <td>1954</td>\n",
       "      <td>31880</td>\n",
       "      <td>1339837</td>\n",
       "      <td>378752</td>\n",
       "    </tr>\n",
       "  </tbody>\n",
       "</table>\n",
       "</div>"
      ],
      "text/plain": [
       "   Year  Poblacion  Nacimientos  Decesos\n",
       "0  1950      28296      1174947   418430\n",
       "1  1951      29110      1183788   458238\n",
       "2  1952      29980      1195209   408823\n",
       "3  1953      30904      1261775   446127\n",
       "4  1954      31880      1339837   378752"
      ]
     },
     "execution_count": 9,
     "metadata": {},
     "output_type": "execute_result"
    }
   ],
   "source": [
    "data = pd.read_csv('population_data.csv')\n",
    "data.head()"
   ]
  },
  {
   "cell_type": "code",
   "execution_count": 10,
   "metadata": {},
   "outputs": [
    {
     "data": {
      "image/png": "[encoded data removed]",
      "text/plain": [
       "<Figure size 432x288 with 1 Axes>"
      ]
     },
     "metadata": {
      "needs_background": "light"
     },
     "output_type": "display_data"
    }
   ],
   "source": [
    "# Se muestra la gráfica. Vea como los datos son escalados, esto le ayudará en el cálculo\n",
    "# de la regresión.\n",
    "\n",
    "plt.plot(data.values[:,0],data.values[:,1]/1000,label=data.columns[1]+' en miles')\n",
    "plt.plot(data.values[:,0],data.values[:,2]/10000,'r',label=data.columns[2]+' en decenas de miles')\n",
    "plt.legend(loc=2)\n",
    "plt.xlabel(data.columns[0])\n",
    "plt.grid()"
   ]
  },
  {
   "cell_type": "markdown",
   "metadata": {},
   "source": [
    "---"
   ]
  },
  {
   "cell_type": "code",
   "execution_count": 16,
   "metadata": {},
   "outputs": [
    {
     "data": {
      "image/png": "[encoded data removed]",
      "text/plain": [
       "<Figure size 432x288 with 1 Axes>"
      ]
     },
     "metadata": {
      "needs_background": "light"
     },
     "output_type": "display_data"
    }
   ],
   "source": [
    "x1 = data[\"Year\"] - 1950\n",
    "y1 = data[\"Poblacion\"]\n",
    "plt.figure()\n",
    "plt.scatter(x1, y1, s=5)\n",
    "plt.grid()"
   ]
  },
  {
   "cell_type": "markdown",
   "metadata": {},
   "source": [
    "Polinomio G.1"
   ]
  },
  {
   "cell_type": "code",
   "execution_count": 12,
   "metadata": {
    "scrolled": true
   },
   "outputs": [
    {
     "data": {
      "text/plain": [
       "      fun: 212137169.5493582\n",
       " hess_inv: array([[ 8.40765263e-08, -9.75295567e-08],\n",
       "       [-9.75295567e-08,  4.02616171e-06]])\n",
       "      jac: array([0., 0.])\n",
       "  message: 'Optimization terminated successfully.'\n",
       "     nfev: 144\n",
       "      nit: 15\n",
       "     njev: 48\n",
       "   status: 0\n",
       "  success: True\n",
       "        x: array([24138.0331771 ,  1543.97300623])"
      ]
     },
     "execution_count": 12,
     "metadata": {},
     "output_type": "execute_result"
    }
   ],
   "source": [
    "theta_inicial_4 = np.random.rand(2)\n",
    "sol4 = opt.minimize(funcion_de_costo_1,\n",
    "                   theta_inicial_4,\n",
    "                   args=(x1, y1))\n",
    "costo_4 = sol4.fun\n",
    "resultados_4 = sol4.x\n",
    "sol4"
   ]
  },
  {
   "cell_type": "markdown",
   "metadata": {},
   "source": [
    "Polinomio G.2"
   ]
  },
  {
   "cell_type": "code",
   "execution_count": 13,
   "metadata": {},
   "outputs": [
    {
     "data": {
      "text/plain": [
       "      fun: 210941621.47922397\n",
       " hess_inv: array([[ 1.13206923e-08, -1.08745212e-08, -4.46266390e-10],\n",
       "       [-1.08745212e-08,  1.20803616e-08, -1.20575898e-09],\n",
       "       [-4.46266390e-10, -1.20575898e-09,  1.65203971e-09]])\n",
       "      jac: array([4., 4., 4.])\n",
       "  message: 'Desired error not necessarily achieved due to precision loss.'\n",
       "     nfev: 255\n",
       "      nit: 14\n",
       "     njev: 61\n",
       "   status: 2\n",
       "  success: False\n",
       "        x: array([2.44256565e+04, 1.51700915e+03, 4.14824318e-01])"
      ]
     },
     "execution_count": 13,
     "metadata": {},
     "output_type": "execute_result"
    }
   ],
   "source": [
    "theta_inicial_5 = np.random.rand(3)\n",
    "sol5 = opt.minimize(funcion_de_costo_2,\n",
    "                   theta_inicial_5,\n",
    "                   args=(x1, y1))\n",
    "costo_5 = sol5.fun\n",
    "resultados_5 = sol5.x\n",
    "sol5"
   ]
  },
  {
   "cell_type": "markdown",
   "metadata": {},
   "source": [
    "Polinomio G.3"
   ]
  },
  {
   "cell_type": "code",
   "execution_count": 14,
   "metadata": {},
   "outputs": [
    {
     "data": {
      "text/plain": [
       "      fun: 25240442.639972124\n",
       " hess_inv: array([[ 1.16823994e-01, -1.36176197e-02,  0.00000000e+00,\n",
       "        -3.73649792e-06],\n",
       "       [-1.36176197e-02,  2.13483215e-03,  0.00000000e+00,\n",
       "         7.02737479e-07],\n",
       "       [ 0.00000000e+00,  0.00000000e+00,  1.42108547e-14,\n",
       "         0.00000000e+00],\n",
       "       [-3.73649792e-06,  7.02737479e-07,  0.00000000e+00,\n",
       "         2.74276514e-10]])\n",
       "      jac: array([ 0.  ,  0.  , -1.  , -0.25])\n",
       "  message: 'Desired error not necessarily achieved due to precision loss.'\n",
       "     nfev: 268\n",
       "      nit: 10\n",
       "     njev: 53\n",
       "   status: 2\n",
       "  success: False\n",
       "        x: array([ 2.84777566e+04,  7.39079179e+02,  3.05648715e+01, -3.09231862e-01])"
      ]
     },
     "execution_count": 14,
     "metadata": {},
     "output_type": "execute_result"
    }
   ],
   "source": [
    "theta_inicial_6 = np.random.rand(4)\n",
    "sol6 = opt.minimize(funcion_de_costo_3,\n",
    "                   theta_inicial_6,\n",
    "                   args=(x1, y1))\n",
    "costo_6 = sol6.fun\n",
    "resultados_6 = sol6.x\n",
    "sol6"
   ]
  },
  {
   "cell_type": "code",
   "execution_count": 21,
   "metadata": {},
   "outputs": [
    {
     "data": {
      "image/png": "[encoded data removed]",
      "text/plain": [
       "<Figure size 432x288 with 1 Axes>"
      ]
     },
     "metadata": {
      "needs_background": "light"
     },
     "output_type": "display_data"
    }
   ],
   "source": [
    "xn2 = np.linspace(0, 66, 200)\n",
    "yn4 = resultados_4[0] + resultados_4[1]*xn2\n",
    "yn5 = resultados_5[0] + resultados_5[1]*xn2 + resultados_5[2]*xn2**2\n",
    "yn6 = resultados_6[0] + resultados_6[1]*xn2 + resultados_6[2]*xn2**2 + resultados_6[3]*xn2**3\n",
    "\n",
    "plt.figure()\n",
    "plt.scatter(x1, y1, s=5)\n",
    "plt.plot(xn2, yn4, label=\"Linea\")\n",
    "plt.plot(xn2, yn5, label=\"Cuadr\")\n",
    "plt.plot(xn2, yn6, label=\"Cubo\")\n",
    "plt.legend(loc=\"best\")\n",
    "plt.grid()"
   ]
  },
  {
   "cell_type": "markdown",
   "metadata": {},
   "source": [
    "**Graficar el error cuadrático contra número de términos**"
   ]
  },
  {
   "cell_type": "code",
   "execution_count": 22,
   "metadata": {
    "scrolled": true
   },
   "outputs": [
    {
     "data": {
      "image/png": "[encoded data removed]",
      "text/plain": [
       "<Figure size 432x288 with 1 Axes>"
      ]
     },
     "metadata": {
      "needs_background": "light"
     },
     "output_type": "display_data"
    }
   ],
   "source": [
    "plt.figure()\n",
    "plt.bar([1, 2, 3], [costo_4, costo_5, costo_6])\n",
    "plt.grid()"
   ]
  },
  {
   "cell_type": "markdown",
   "metadata": {},
   "source": [
    "**Ahora haremos lo mismo pero con nacimientos**"
   ]
  },
  {
   "cell_type": "code",
   "execution_count": 23,
   "metadata": {},
   "outputs": [
    {
     "data": {
      "image/png": "[encoded data removed]",
      "text/plain": [
       "<Figure size 432x288 with 1 Axes>"
      ]
     },
     "metadata": {
      "needs_background": "light"
     },
     "output_type": "display_data"
    }
   ],
   "source": [
    "x2 = data[\"Year\"] - 1950\n",
    "y2 = data[\"Nacimientos\"]\n",
    "plt.figure()\n",
    "plt.scatter(x2, y2, s=5)\n",
    "plt.grid()"
   ]
  },
  {
   "cell_type": "code",
   "execution_count": 34,
   "metadata": {},
   "outputs": [
    {
     "data": {
      "text/plain": [
       "      fun: 4737912763689.639\n",
       " hess_inv: array([[ 3.08562061e-03, -3.90364860e-05],\n",
       "       [-3.90364860e-05,  3.83652340e-06]])\n",
       "      jac: array([     0., -65536.])\n",
       "  message: 'Desired error not necessarily achieved due to precision loss.'\n",
       "     nfev: 216\n",
       "      nit: 9\n",
       "     njev: 68\n",
       "   status: 2\n",
       "  success: False\n",
       "        x: array([1562821.70163782,   21979.93319811])"
      ]
     },
     "execution_count": 34,
     "metadata": {},
     "output_type": "execute_result"
    }
   ],
   "source": [
    "theta_inicial_7 = np.random.rand(2)\n",
    "sol7 = opt.minimize(funcion_de_costo_1,\n",
    "                   theta_inicial_7,\n",
    "                   args=(x2, y2))\n",
    "costo_7 = sol7.fun\n",
    "resultados_7 = sol7.x\n",
    "sol7"
   ]
  },
  {
   "cell_type": "code",
   "execution_count": 35,
   "metadata": {},
   "outputs": [
    {
     "data": {
      "text/plain": [
       "      fun: 492921255660.34033\n",
       " hess_inv: array([[ 1.09191374e-01, -7.16555521e-03,  9.25594372e-05],\n",
       "       [-7.16555521e-03,  5.46807143e-04, -7.47738658e-06],\n",
       "       [ 9.25594372e-05, -7.47738658e-06,  1.06075820e-07]])\n",
       "      jac: array([    0., -4096., 16384.])\n",
       "  message: 'Desired error not necessarily achieved due to precision loss.'\n",
       "     nfev: 134\n",
       "      nit: 8\n",
       "     njev: 31\n",
       "   status: 2\n",
       "  success: False\n",
       "        x: array([ 1.02127116e+06,  7.27682083e+04, -7.81439967e+02])"
      ]
     },
     "execution_count": 35,
     "metadata": {},
     "output_type": "execute_result"
    }
   ],
   "source": [
    "theta_inicial_8 = np.random.rand(3)\n",
    "sol8 = opt.minimize(funcion_de_costo_2,\n",
    "                   theta_inicial_8,\n",
    "                   args=(x2, y2))\n",
    "costo_8 = sol8.fun\n",
    "resultados_8 = sol8.x\n",
    "sol8"
   ]
  },
  {
   "cell_type": "code",
   "execution_count": 36,
   "metadata": {},
   "outputs": [
    {
     "data": {
      "text/plain": [
       "      fun: 441782717003.1797\n",
       " hess_inv: array([[ 2.71973769e+00,  2.48319577e-02, -3.57047476e-03,\n",
       "         2.24722887e-05],\n",
       "       [ 2.48319577e-02,  5.25984505e-04, -4.73459632e-05,\n",
       "         3.77858775e-07],\n",
       "       [-3.57047476e-03, -4.73459632e-05,  5.48012263e-06,\n",
       "        -3.91324634e-08],\n",
       "       [ 2.24722887e-05,  3.77858775e-07, -3.91324634e-08,\n",
       "         3.04586741e-10]])\n",
       "      jac: array([-4.09600000e+03, -6.96320000e+04, -5.13228800e+06, -3.10996992e+08])\n",
       "  message: 'Desired error not necessarily achieved due to precision loss.'\n",
       "     nfev: 332\n",
       "      nit: 11\n",
       "     njev: 64\n",
       "   status: 2\n",
       "  success: False\n",
       "        x: array([ 1.08808065e+06,  5.99041659e+04, -2.82363862e+02, -5.12162559e+00])"
      ]
     },
     "execution_count": 36,
     "metadata": {},
     "output_type": "execute_result"
    }
   ],
   "source": [
    "theta_inicial_9 = np.random.rand(4)\n",
    "sol9 = opt.minimize(funcion_de_costo_3,\n",
    "                   theta_inicial_9,\n",
    "                   args=(x2, y2))\n",
    "costo_9 = sol9.fun\n",
    "resultados_9 = sol9.x\n",
    "sol9"
   ]
  },
  {
   "cell_type": "code",
   "execution_count": 37,
   "metadata": {},
   "outputs": [
    {
     "data": {
      "image/png": "[encoded data removed]",
      "text/plain": [
       "<Figure size 432x288 with 1 Axes>"
      ]
     },
     "metadata": {
      "needs_background": "light"
     },
     "output_type": "display_data"
    }
   ],
   "source": [
    "xn3 = np.linspace(0, 66, 200)\n",
    "yn7 = resultados_7[0] + resultados_7[1]*xn3\n",
    "yn8 = resultados_8[0] + resultados_8[1]*xn3 + resultados_8[2]*xn3**2\n",
    "yn9 = resultados_9[0] + resultados_9[1]*xn3 + resultados_9[2]*xn3**2 + resultados_9[3]*xn3**3\n",
    "\n",
    "plt.figure()\n",
    "plt.scatter(x2, y2, s=5)\n",
    "plt.plot(xn3, yn7, label=\"Linea\")\n",
    "plt.plot(xn3, yn8, label=\"Cuadr\")\n",
    "plt.plot(xn3, yn9, label=\"Cubo\")\n",
    "plt.legend(loc=\"best\")\n",
    "plt.grid()"
   ]
  },
  {
   "cell_type": "code",
   "execution_count": 38,
   "metadata": {},
   "outputs": [
    {
     "data": {
      "image/png": "[encoded data removed]",
      "text/plain": [
       "<Figure size 432x288 with 1 Axes>"
      ]
     },
     "metadata": {
      "needs_background": "light"
     },
     "output_type": "display_data"
    }
   ],
   "source": [
    "plt.figure()\n",
    "plt.bar([1, 2, 3], [costo_7, costo_8, costo_9])\n",
    "plt.grid()"
   ]
  },
  {
   "cell_type": "markdown",
   "metadata": {},
   "source": [
    "El cubico se ajusta mejor y tiene menor error"
   ]
  },
  {
   "cell_type": "code",
   "execution_count": null,
   "metadata": {},
   "outputs": [],
   "source": []
  }
 ],
 "metadata": {
  "kernelspec": {
   "display_name": "Python 3 (ipykernel)",
   "language": "python",
   "name": "python3"
  },
  "language_info": {
   "codemirror_mode": {
    "name": "ipython",
    "version": 3
   },
   "file_extension": ".py",
   "mimetype": "text/x-python",
   "name": "python",
   "nbconvert_exporter": "python",
   "pygments_lexer": "ipython3",
   "version": "3.9.7"
  }
 },
 "nbformat": 4,
 "nbformat_minor": 2
}
